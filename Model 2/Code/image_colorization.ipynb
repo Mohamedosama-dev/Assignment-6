{
 "cells": [
  {
   "cell_type": "code",
   "execution_count": 45,
   "id": "a7e4923a",
   "metadata": {},
   "outputs": [],
   "source": [
    "import numpy as np \n",
    "import cv2"
   ]
  },
  {
   "cell_type": "code",
   "execution_count": 46,
   "id": "918e8953",
   "metadata": {},
   "outputs": [],
   "source": [
    "net = cv2.dnn.readNetFromCaffe('colorization_deploy_v2.prototxt','colorization_release_v2.caffemodel')\n",
    "pts = np.load('pts_in_hull.npy')"
   ]
  },
  {
   "cell_type": "code",
   "execution_count": 47,
   "id": "379597be",
   "metadata": {},
   "outputs": [],
   "source": [
    "class8 = net.getLayerId(\"class8_ab\")\n",
    "conv8 = net.getLayerId(\"conv8_313_rh\")\n",
    "pts = pts.transpose().reshape(2,313,1,1)"
   ]
  },
  {
   "cell_type": "code",
   "execution_count": 48,
   "id": "9ee659cd",
   "metadata": {},
   "outputs": [],
   "source": [
    "net.getLayer(class8).blobs = [pts.astype(\"float32\")]\n",
    "net.getLayer(conv8).blobs = [np.full([1,313],2.606,dtype='float32')]"
   ]
  },
  {
   "cell_type": "code",
   "execution_count": 50,
   "id": "d02945fd",
   "metadata": {},
   "outputs": [],
   "source": [
    "\n",
    "image = cv2.imread('photo.jpeg')\n",
    "scaled = image.astype(\"float32\")/255.0\n",
    "lab = cv2.cvtColor(scaled,cv2.COLOR_BGR2LAB)"
   ]
  },
  {
   "cell_type": "code",
   "execution_count": 51,
   "id": "707be71e",
   "metadata": {},
   "outputs": [],
   "source": [
    "\n",
    "resized = cv2.resize(lab,(224,224))\n",
    "L = cv2.split(resized)[0]\n",
    "L -= 50"
   ]
  },
  {
   "cell_type": "code",
   "execution_count": 52,
   "id": "268de1dc",
   "metadata": {},
   "outputs": [],
   "source": [
    "net.setInput(cv2.dnn.blobFromImage(L))\n",
    "ab = net.forward()[0, :, :, :].transpose((1,2,0))\n",
    "\n",
    "ab = cv2.resize(ab, (image.shape[1],image.shape[0]))"
   ]
  },
  {
   "cell_type": "code",
   "execution_count": 53,
   "id": "01340f0f",
   "metadata": {},
   "outputs": [],
   "source": [
    "\n",
    "L = cv2.split(lab)[0]\n",
    "colorized = np.concatenate((L[:,:,np.newaxis], ab), axis=2)\n",
    "\n"
   ]
  },
  {
   "cell_type": "code",
   "execution_count": 54,
   "id": "3184743a",
   "metadata": {},
   "outputs": [],
   "source": [
    "colorized = cv2.cvtColor(colorized,cv2.COLOR_LAB2BGR)\n",
    "colorized = np.clip(colorized,0,1)\n",
    "\n",
    "colorized = (255 * colorized).astype(\"uint8\")"
   ]
  },
  {
   "cell_type": "code",
   "execution_count": null,
   "id": "fedc822f",
   "metadata": {},
   "outputs": [],
   "source": [
    "cv2.imshow(\"Original\",image)\n",
    "cv2.imshow(\"Colorized\",colorized)\n",
    "cv2.waitKey(0)"
   ]
  },
  {
   "cell_type": "code",
   "execution_count": null,
   "id": "013ae73d",
   "metadata": {},
   "outputs": [],
   "source": []
  }
 ],
 "metadata": {
  "kernelspec": {
   "display_name": "Python 3 (ipykernel)",
   "language": "python",
   "name": "python3"
  },
  "language_info": {
   "codemirror_mode": {
    "name": "ipython",
    "version": 3
   },
   "file_extension": ".py",
   "mimetype": "text/x-python",
   "name": "python",
   "nbconvert_exporter": "python",
   "pygments_lexer": "ipython3",
   "version": "3.9.12"
  }
 },
 "nbformat": 4,
 "nbformat_minor": 5
}
